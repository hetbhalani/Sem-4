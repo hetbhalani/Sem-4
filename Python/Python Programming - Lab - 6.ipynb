{
 "cells": [
  {
   "attachments": {},
   "cell_type": "markdown",
   "metadata": {},
   "source": [
    "<a href='https://www.darshan.ac.in/'> <img src='https://www.darshan.ac.in/Content/media/DU_Logo.svg' width=\"250\" height=\"300\"/></a>\n",
    "<pre>\n",
    "<center><b><h1>Python Programming - 2301CS404</b></center>\n",
    "<center><b><h1>Lab - 6</b></center>    \n",
    "<pre>"
   ]
  },
  {
   "cell_type": "markdown",
   "metadata": {},
   "source": [
    "# Tuple"
   ]
  },
  {
   "cell_type": "markdown",
   "metadata": {},
   "source": [
    "### 01) WAP to find sum of tuple elements."
   ]
  },
  {
   "cell_type": "code",
   "execution_count": 2,
   "metadata": {},
   "outputs": [
    {
     "name": "stdout",
     "output_type": "stream",
     "text": [
      "21\n"
     ]
    }
   ],
   "source": [
    "t = (1,2,3,4,5,6)\n",
    "print(sum(t))"
   ]
  },
  {
   "cell_type": "markdown",
   "metadata": {},
   "source": [
    "### 02) WAP to find Maximum and Minimum K elements in a given tuple."
   ]
  },
  {
   "cell_type": "code",
   "execution_count": 62,
   "metadata": {},
   "outputs": [
    {
     "name": "stdout",
     "output_type": "stream",
     "text": [
      "1\n",
      "2\n",
      "2\n",
      "1\n"
     ]
    }
   ],
   "source": [
    "t = (1,6,3,2,9,6)\n",
    "# max,min = t[0],t[0]\n",
    "\n",
    "# for i in t:\n",
    "#     if i > max:\n",
    "#         max = i\n",
    "#     elif i < min:\n",
    "#         min = i\n",
    "\n",
    "# print(f'max : {max}')\n",
    "# print(f'min : {min}')\n",
    "\n",
    "k = 2\n",
    "t1 = list(t)\n",
    "t1.sort()\n",
    "\n",
    "for i in range(k):\n",
    "    print(t1[i])\n",
    "    print(t1[-i+1])"
   ]
  },
  {
   "cell_type": "markdown",
   "metadata": {},
   "source": [
    "### 03) WAP to find tuples which have all elements divisible by K from a list of tuples."
   ]
  },
  {
   "cell_type": "code",
   "execution_count": 11,
   "metadata": {},
   "outputs": [
    {
     "name": "stdout",
     "output_type": "stream",
     "text": [
      "(2, 4, 6, 8)\n"
     ]
    }
   ],
   "source": [
    "l = [(1,2,3,4),(5,6,7,8),(2,4,6,8),(1,2,5,7),(5,10)]\n",
    "k = 2\n",
    "cnt = 0\n",
    "\n",
    "for i in l:\n",
    "    for j in i:\n",
    "        if j % k != 0:\n",
    "            cnt += 1\n",
    "            \n",
    "    if cnt == 0:\n",
    "        print(i)\n",
    "    cnt = 0"
   ]
  },
  {
   "cell_type": "markdown",
   "metadata": {},
   "source": [
    "### 04) WAP to create a list of tuples from given list having number and its cube in each tuple."
   ]
  },
  {
   "cell_type": "code",
   "execution_count": 12,
   "metadata": {},
   "outputs": [
    {
     "data": {
      "text/plain": [
       "[(1, 1), (2, 8), (3, 27), (4, 64), (5, 125), (6, 216)]"
      ]
     },
     "execution_count": 12,
     "metadata": {},
     "output_type": "execute_result"
    }
   ],
   "source": [
    "# l = [(1,1),(2,8),(3,27),(4,64),(5,125)] ans\n",
    "l = [1,2,3,4,5,6]\n",
    "\n",
    "ans = [(i,i**3) for i in l]\n",
    "ans"
   ]
  },
  {
   "cell_type": "markdown",
   "metadata": {},
   "source": [
    "### 05) WAP to find tuples with all positive elements from the given list of tuples."
   ]
  },
  {
   "cell_type": "code",
   "execution_count": 21,
   "metadata": {},
   "outputs": [
    {
     "name": "stdout",
     "output_type": "stream",
     "text": [
      "(1, 2, 3, 4)\n",
      "(2, 4, 6, 8)\n"
     ]
    }
   ],
   "source": [
    "l = [(1,2,3,4),(5,-6,7,8),(2,4,6,8),(1,-2,5,7),(5,-10)]\n",
    "cnt = 0\n",
    "\n",
    "for i in l:\n",
    "    if all(j>0 for j in i):\n",
    "        print(i)"
   ]
  },
  {
   "cell_type": "markdown",
   "metadata": {},
   "source": [
    "### 06) WAP to add tuple to list and vice – versa."
   ]
  },
  {
   "cell_type": "code",
   "execution_count": 20,
   "metadata": {},
   "outputs": [
    {
     "data": {
      "text/plain": [
       "(1, 2, 4, 6, 8, 4, [5, 6, 7])"
      ]
     },
     "execution_count": 20,
     "metadata": {},
     "output_type": "execute_result"
    }
   ],
   "source": [
    "t_test = (1,2,3)\n",
    "l_test = [5,6,7]\n",
    "\n",
    "og_l = [369,True,\"Bhai Bhai\",['a','s','d','f']]\n",
    "og_l.append(t_test)\n",
    "\n",
    "og_t = (1,2,4,6,8,4)\n",
    "og_t = list(og_t)\n",
    "og_t.append(l_test)\n",
    "og_t = tuple(og_t)\n",
    "og_t"
   ]
  },
  {
   "cell_type": "markdown",
   "metadata": {},
   "source": [
    "### 07) WAP to remove tuples of length K."
   ]
  },
  {
   "cell_type": "code",
   "execution_count": 44,
   "metadata": {},
   "outputs": [
    {
     "name": "stdout",
     "output_type": "stream",
     "text": [
      "[(5, -6, 7, 8, 9), (5, -10)]\n"
     ]
    }
   ],
   "source": [
    "l = [(1,2,3,6),(1,2,5,7),(5,-6,7,8,9),(2,4,6,8),(5,-10),(1,1,1,1),(2,2,2,2)]\n",
    "l2 = l.copy()\n",
    "k = 4\n",
    "\n",
    "for i in l2:\n",
    "    if len(i) == k:\n",
    "        l.remove(i)\n",
    "print(l)"
   ]
  },
  {
   "cell_type": "markdown",
   "metadata": {},
   "source": [
    "### 08) WAP to remove duplicates from tuple."
   ]
  },
  {
   "cell_type": "code",
   "execution_count": 37,
   "metadata": {},
   "outputs": [
    {
     "data": {
      "text/plain": [
       "(1, 2, 3, 4, 6, 8, 9)"
      ]
     },
     "execution_count": 37,
     "metadata": {},
     "output_type": "execute_result"
    }
   ],
   "source": [
    "t = (1,1,2,3,4,3,6,8,9,9)\n",
    "t = set(t)\n",
    "t = tuple(t)\n",
    "t"
   ]
  },
  {
   "cell_type": "markdown",
   "metadata": {},
   "source": [
    "### 09) WAP to multiply adjacent elements of a tuple and print that resultant tuple."
   ]
  },
  {
   "cell_type": "code",
   "execution_count": 58,
   "metadata": {},
   "outputs": [
    {
     "data": {
      "text/plain": [
       "[2, 6, 12, 20]"
      ]
     },
     "execution_count": 58,
     "metadata": {},
     "output_type": "execute_result"
    }
   ],
   "source": [
    "t1 = (1,2,3,4,5)\n",
    "t1 = list(t1)\n",
    "\n",
    "ans = [(i*(i+1)) for i in range (1,len(t1))]\n",
    "ans"
   ]
  },
  {
   "cell_type": "markdown",
   "metadata": {},
   "source": [
    "### 10) WAP to test if the given tuple is distinct or not."
   ]
  },
  {
   "cell_type": "code",
   "execution_count": 60,
   "metadata": {},
   "outputs": [
    {
     "name": "stdout",
     "output_type": "stream",
     "text": [
      "No dups\n"
     ]
    }
   ],
   "source": [
    "l = [(1,2,3,6),(1,2,5,7),(5,-6,7,8,9),(1,2,3,6),(5,-10),(1,1,1,1),(2,2,2,2)]\n",
    "\n",
    "# for i in \n",
    "\n",
    "t = (1,2,3,4,5)\n",
    "t1 = list(t)\n",
    "t2 = set(t)\n",
    "\n",
    "if len(t1) == len(t2):\n",
    "    print(\"No dups\")\n",
    "else:\n",
    "    print(\"has dups\")\n"
   ]
  },
  {
   "cell_type": "code",
   "execution_count": 65,
   "metadata": {},
   "outputs": [
    {
     "name": "stdout",
     "output_type": "stream",
     "text": [
      "(1, 2, 3, 6)\n"
     ]
    }
   ],
   "source": [
    "l = [(1,2,3,6),(1,2,5,7),(5,-6,7,8,9),(1,2,3,6),(5,-10),(1,1,1,1),(2,2,2,2)]\n",
    "\n",
    "for i in range(len(l)):\n",
    "    for j in l[i+1:]:\n",
    "        if l[i] == j:\n",
    "            print(l[i])"
   ]
  }
 ],
 "metadata": {
  "kernelspec": {
   "display_name": "Python 3",
   "language": "python",
   "name": "python3"
  },
  "language_info": {
   "codemirror_mode": {
    "name": "ipython",
    "version": 3
   },
   "file_extension": ".py",
   "mimetype": "text/x-python",
   "name": "python",
   "nbconvert_exporter": "python",
   "pygments_lexer": "ipython3",
   "version": "3.12.4"
  }
 },
 "nbformat": 4,
 "nbformat_minor": 4
}
