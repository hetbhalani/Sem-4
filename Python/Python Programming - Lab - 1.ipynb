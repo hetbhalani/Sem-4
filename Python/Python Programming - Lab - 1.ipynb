{
 "cells": [
  {
   "cell_type": "markdown",
   "metadata": {},
   "source": [
    "<a href='https://www.darshan.ac.in/'> <img src='https://www.darshan.ac.in/Content/media/DU_Logo.svg' width=\"250\" height=\"10\"/></a>\n",
    "<pre>\n",
    "<center><b><h1>Python Programming - 2301CS404</b></center>\n",
    "<center><b><h1>Lab - 1</b></center>    \n",
    "<pre>"
   ]
  },
  {
   "cell_type": "markdown",
   "metadata": {},
   "source": [
    "### 01) WAP to print “Hello World”"
   ]
  },
  {
   "cell_type": "code",
   "execution_count": 1,
   "metadata": {},
   "outputs": [
    {
     "name": "stdout",
     "output_type": "stream",
     "text": [
      "Hello World\n"
     ]
    }
   ],
   "source": [
    "print(\"Hello World\")"
   ]
  },
  {
   "cell_type": "markdown",
   "metadata": {},
   "source": [
    "### 02) WAP to print addition of two numbers with and without using input()."
   ]
  },
  {
   "cell_type": "code",
   "execution_count": 3,
   "metadata": {},
   "outputs": [
    {
     "name": "stdout",
     "output_type": "stream",
     "text": [
      "3\n"
     ]
    }
   ],
   "source": [
    "# a,b = 1,2\n",
    "# print(a+b)\n",
    "\n",
    "a = int(input(\"Enter a: \"))\n",
    "b = int(input(\"Enter b: \"))\n",
    "\n",
    "print(a+b)"
   ]
  },
  {
   "cell_type": "markdown",
   "metadata": {},
   "source": [
    "### 03) WAP to check the type of the variable."
   ]
  },
  {
   "cell_type": "code",
   "execution_count": 4,
   "metadata": {},
   "outputs": [
    {
     "name": "stdout",
     "output_type": "stream",
     "text": [
      "<class 'str'> <class 'int'> <class 'float'>\n"
     ]
    }
   ],
   "source": [
    "a = \"Het\"\n",
    "b = 123\n",
    "c = 6.9\n",
    "\n",
    "print(type(a),type(b),type(c))"
   ]
  },
  {
   "cell_type": "markdown",
   "metadata": {},
   "source": [
    "### 04) WAP to calculate simple interest."
   ]
  },
  {
   "cell_type": "code",
   "execution_count": null,
   "metadata": {},
   "outputs": [],
   "source": [
    "p = float(input(\"principal: \"))\n",
    "r = float(input(\"annual interest: \"))\n",
    "t = int(input(\"time: \"))\n",
    "\n",
    "i = (p * r * t) / 100\n",
    "\n",
    "print(f\"interest is: {i}\")\n"
   ]
  },
  {
   "cell_type": "markdown",
   "metadata": {},
   "source": [
    "### 05) WAP to calculate area and perimeter of a circle."
   ]
  },
  {
   "cell_type": "code",
   "execution_count": 5,
   "metadata": {},
   "outputs": [
    {
     "name": "stdout",
     "output_type": "stream",
     "text": [
      "area: 452.3893421169302\n",
      "perimeter: 75.39822368615503\n"
     ]
    }
   ],
   "source": [
    "import math\n",
    "\n",
    "r = float(input(\"Enter radius: \"))\n",
    "\n",
    "print(f\"area: {math.pi*r*r}\")\n",
    "print(f\"perimeter: {2*math.pi*r}\")"
   ]
  },
  {
   "cell_type": "markdown",
   "metadata": {},
   "source": [
    "### 06) WAP to calculate area of a triangle."
   ]
  },
  {
   "cell_type": "code",
   "execution_count": null,
   "metadata": {},
   "outputs": [],
   "source": [
    "h = int(input(\"enter h: \"))\n",
    "b = int(input(\"Eenter b: \"))\n",
    "\n",
    "print(f\"area of triangle is {0.5*b*h}\")"
   ]
  },
  {
   "cell_type": "markdown",
   "metadata": {},
   "source": [
    "### 07) WAP to compute quotient and remainder."
   ]
  },
  {
   "cell_type": "code",
   "execution_count": 6,
   "metadata": {},
   "outputs": [
    {
     "name": "stdout",
     "output_type": "stream",
     "text": [
      "quontile is 0.4 and rem is 2\n"
     ]
    }
   ],
   "source": [
    "a = int(input(\"Enter a: \"))\n",
    "b = int(input(\"Enter b: \"))\n",
    "\n",
    "print(f\"quontile is {a/b} and rem is {a%b}\")"
   ]
  },
  {
   "cell_type": "markdown",
   "metadata": {},
   "source": [
    "### 08) WAP to convert degree into Fahrenheit and vice versa."
   ]
  },
  {
   "cell_type": "code",
   "execution_count": 1,
   "metadata": {},
   "outputs": [
    {
     "name": "stdout",
     "output_type": "stream",
     "text": [
      "1. C to F\n",
      "2. F to C\n",
      "123.0°C is equal to 253.4°F.\n"
     ]
    }
   ],
   "source": [
    "print(\"1. C to F\")\n",
    "print(\"2. F to C\")\n",
    "\n",
    "choice = int(input(\"Enter your choice (1 or 2): \"))\n",
    "\n",
    "if choice == 1:\n",
    "    c = float(input(\"Enter temperature in Celsius: \"))\n",
    "    f = (c * 9 / 5) + 32\n",
    "    print(f\"{c}°C is equal to {f}°F.\")\n",
    "elif choice == 2:\n",
    "    f = float(input(\"Enter temperature in f: \"))\n",
    "    c = (f - 32) * 5 / 9\n",
    "    print(f\"{f}°F is equal to {c}°C.\")\n",
    "else:\n",
    "    print(\"Invalid choice. Please select 1 or 2.\")\n"
   ]
  },
  {
   "cell_type": "markdown",
   "metadata": {},
   "source": [
    "### 09) WAP to find the distance between two points in 2-D space."
   ]
  },
  {
   "cell_type": "code",
   "execution_count": 2,
   "metadata": {},
   "outputs": [
    {
     "name": "stdout",
     "output_type": "stream",
     "text": [
      "1.4142135623730951\n"
     ]
    }
   ],
   "source": [
    "x1 = float(input(\"Enter x1 : \"))\n",
    "x2 = float(input(\"Enter x2 : \"))\n",
    "y1 = float(input(\"Enter y1 : \"))\n",
    "y2 = float(input(\"Enter y2 : \"))\n",
    "\n",
    "ans = ((x2 - x1)**2 + (y2-y1)**2)**(1/2)\n",
    "print(ans)"
   ]
  },
  {
   "cell_type": "markdown",
   "metadata": {},
   "source": [
    "### 10) WAP to print sum of n natural numbers."
   ]
  },
  {
   "cell_type": "code",
   "execution_count": 3,
   "metadata": {},
   "outputs": [
    {
     "name": "stdout",
     "output_type": "stream",
     "text": [
      "15.0\n"
     ]
    }
   ],
   "source": [
    "n = int(input(\"Enter a num : \"))\n",
    "\n",
    "print((n*(n+1))/2)"
   ]
  },
  {
   "cell_type": "markdown",
   "metadata": {},
   "source": [
    "### 11) WAP to print sum of square of n natural numbers."
   ]
  },
  {
   "cell_type": "code",
   "execution_count": 4,
   "metadata": {},
   "outputs": [
    {
     "name": "stdout",
     "output_type": "stream",
     "text": [
      "627874.0\n"
     ]
    }
   ],
   "source": [
    "n = int(input(\"Enter a num : \"))\n",
    "\n",
    "print((n*(n+1)*(2*n+1))/6)\n",
    "   "
   ]
  },
  {
   "cell_type": "markdown",
   "metadata": {},
   "source": [
    "### 12) WAP to concate the first and last name of the student."
   ]
  },
  {
   "cell_type": "code",
   "execution_count": 5,
   "metadata": {},
   "outputs": [
    {
     "name": "stdout",
     "output_type": "stream",
     "text": [
      "het bhalani\n"
     ]
    }
   ],
   "source": [
    "s1 = input(\"Enter first name : \")\n",
    "s2 = input(\"Enter last name : \")\n",
    "\n",
    "print(f'{s1} {s2}')"
   ]
  },
  {
   "cell_type": "markdown",
   "metadata": {},
   "source": [
    "### 13) WAP to swap two numbers."
   ]
  },
  {
   "cell_type": "code",
   "execution_count": 6,
   "metadata": {},
   "outputs": [
    {
     "name": "stdout",
     "output_type": "stream",
     "text": [
      "1 2\n",
      "2 1\n"
     ]
    }
   ],
   "source": [
    "a,b = 1,2\n",
    "print(a,b)\n",
    "\n",
    "b,a = a,b\n",
    "print(a,b)"
   ]
  },
  {
   "cell_type": "markdown",
   "metadata": {},
   "source": [
    "### 14) WAP to get the distance from user into kilometer, and convert it into meter, feet, inches and centimeter."
   ]
  },
  {
   "cell_type": "code",
   "execution_count": 10,
   "metadata": {},
   "outputs": [
    {
     "name": "stdout",
     "output_type": "stream",
     "text": [
      "123000.0 m \n",
      "403543.32 ft\n",
      "4842522.3 in\n",
      "12300000.0 cm\n"
     ]
    }
   ],
   "source": [
    "d = float(input(\"Enter distance in km : \"))\n",
    "\n",
    "print(f\"{d*1000} m \\n{d*3280.84} ft\\n{d * 39370.1} in\\n{d * 100000} cm\")"
   ]
  },
  {
   "cell_type": "markdown",
   "metadata": {},
   "source": [
    "### 15) WAP to get day, month and year from the user and print the date in the given format: 23-11-2024."
   ]
  },
  {
   "cell_type": "code",
   "execution_count": 11,
   "metadata": {},
   "outputs": [
    {
     "name": "stdout",
     "output_type": "stream",
     "text": [
      "5-5-2006\n"
     ]
    }
   ],
   "source": [
    "day = int(input(\"Enter a date : \"))\n",
    "month = int(input(\"Enter a month : \"))\n",
    "year = int(input(\"Enter a year : \"))\n",
    "\n",
    "print(day,month,year, sep=\"-\")"
   ]
  }
 ],
 "metadata": {
  "kernelspec": {
   "display_name": "Python 3 (ipykernel)",
   "language": "python",
   "name": "python3"
  },
  "language_info": {
   "codemirror_mode": {
    "name": "ipython",
    "version": 3
   },
   "file_extension": ".py",
   "mimetype": "text/x-python",
   "name": "python",
   "nbconvert_exporter": "python",
   "pygments_lexer": "ipython3",
   "version": "3.12.4"
  },
  "vscode": {
   "interpreter": {
    "hash": "31f2aee4e71d21fbe5cf8b01ff0e069b9275f58929596ceb00d14d90e3e16cd6"
   }
  }
 },
 "nbformat": 4,
 "nbformat_minor": 4
}
