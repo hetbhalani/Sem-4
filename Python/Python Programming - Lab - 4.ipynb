{
 "cells": [
  {
   "cell_type": "markdown",
   "metadata": {},
   "source": [
    "\n",
    "<a href='https://www.darshan.ac.in/'> <img src='https://www.darshan.ac.in/Content/media/DU_Logo.svg' width=\"250\" height=\"300\"/></a>\n",
    "<pre>\n",
    "<center><b><h1>Python Programming - 2301CS404</b></center>\n",
    "<center><b><h1>Lab - 4</b></center>  \n",
    "<center><b><h1>Het Bhalani</b></center>\n",
    "<pre>"
   ]
  },
  {
   "cell_type": "markdown",
   "metadata": {},
   "source": [
    "# String"
   ]
  },
  {
   "cell_type": "markdown",
   "metadata": {},
   "source": [
    "### 01) WAP to check whether the given string is palindrome or not."
   ]
  },
  {
   "cell_type": "code",
   "execution_count": 8,
   "metadata": {},
   "outputs": [
    {
     "name": "stdout",
     "output_type": "stream",
     "text": [
      "Not pal\n"
     ]
    }
   ],
   "source": [
    "# s = input(\"Enter a String: \")\n",
    "# l = []\n",
    "# flag = 1\n",
    "\n",
    "# for i in s:\n",
    "#     l.append(i)\n",
    "    \n",
    "# newl = l\n",
    "# print(newl)\n",
    "# l.reverse()\n",
    "# print(l)\n",
    "\n",
    "# for i in s:\n",
    "#     if newl[i] != l[i]:\n",
    "#        flag = 0\n",
    "#        break\n",
    "   \n",
    "# if flag==1:\n",
    "#     print(\"pal\")\n",
    "# else:\n",
    "#     print(\"not pal\")\n",
    "\n",
    "s = input(\"Enter a String: \")\n",
    "rev = s[::-1]\n",
    "\n",
    "if s==rev:\n",
    "    print(\"pal\")\n",
    "else:\n",
    "    print(\"Not pal\")"
   ]
  },
  {
   "cell_type": "markdown",
   "metadata": {},
   "source": [
    "### 02) WAP to reverse the words in the given string."
   ]
  },
  {
   "cell_type": "code",
   "execution_count": 17,
   "metadata": {},
   "outputs": [
    {
     "name": "stdout",
     "output_type": "stream",
     "text": [
      "inu rad\n"
     ]
    },
    {
     "data": {
      "text/plain": [
       "'rad inu'"
      ]
     },
     "execution_count": 17,
     "metadata": {},
     "output_type": "execute_result"
    }
   ],
   "source": [
    "s = input(\"Enter a String: \")\n",
    "# s[1:6:]\n",
    "newl = []\n",
    "l = s.split(\" \")\n",
    "\n",
    "print(s[::-1])\n",
    "\n",
    "for i in l:\n",
    "   newl.append(i[::-1])\n",
    "   \n",
    "ans = ' '.join(newl)\n",
    "ans"
   ]
  },
  {
   "cell_type": "markdown",
   "metadata": {},
   "source": [
    "### 03) WAP to remove ith character from given string."
   ]
  },
  {
   "cell_type": "code",
   "execution_count": 25,
   "metadata": {},
   "outputs": [
    {
     "data": {
      "text/plain": [
       "'qwrt'"
      ]
     },
     "execution_count": 25,
     "metadata": {},
     "output_type": "execute_result"
    }
   ],
   "source": [
    "s = input(\"Enter a Sting: \")\n",
    "i = int(input(\"enter an index\"))\n",
    "\n",
    "ans = s[:i] + s[i+1:]\n",
    "ans"
   ]
  },
  {
   "cell_type": "markdown",
   "metadata": {},
   "source": [
    "### 04) WAP to find length of string without using len function."
   ]
  },
  {
   "cell_type": "code",
   "execution_count": 26,
   "metadata": {},
   "outputs": [
    {
     "data": {
      "text/plain": [
       "5"
      ]
     },
     "execution_count": 26,
     "metadata": {},
     "output_type": "execute_result"
    }
   ],
   "source": [
    "s = input(\"Enter a String: \")\n",
    "cnt = 0\n",
    "\n",
    "for i in s:\n",
    "    cnt += 1\n",
    "cnt"
   ]
  },
  {
   "cell_type": "markdown",
   "metadata": {},
   "source": [
    "### 05) WAP to print even length word in string."
   ]
  },
  {
   "cell_type": "code",
   "execution_count": 31,
   "metadata": {},
   "outputs": [
    {
     "name": "stdout",
     "output_type": "stream",
     "text": [
      "qw\n"
     ]
    }
   ],
   "source": [
    "s = input(\"Enter a String: \")\n",
    "\n",
    "l = s.split(\" \")\n",
    "\n",
    "for i in range (len(l)):\n",
    "    if len(l[i]) % 2 == 0:\n",
    "        print(l[i])\n",
    "        "
   ]
  },
  {
   "cell_type": "markdown",
   "metadata": {},
   "source": [
    "### 06) WAP to count numbers of vowels in given string."
   ]
  },
  {
   "cell_type": "code",
   "execution_count": null,
   "metadata": {},
   "outputs": [],
   "source": [
    "s = input(\"Enter a String: \")\n",
    "cnt = 0\n",
    "\n",
    "for i in range (len(s)):\n",
    "    if i == 'a' or i == 'e' or i == 'i' or i == 'o' or i == 'u':\n",
    "        cnt += 1\n",
    "\n",
    "cnt"
   ]
  },
  {
   "cell_type": "markdown",
   "metadata": {},
   "source": [
    "### 07) WAP to capitalize the first and last character of each word in a string."
   ]
  },
  {
   "cell_type": "code",
   "execution_count": 4,
   "metadata": {},
   "outputs": [
    {
     "name": "stdout",
     "output_type": "stream",
     "text": [
      "HellO WorlD PythoN\n"
     ]
    }
   ],
   "source": [
    "def cap(s):\n",
    "    words = s.split()\n",
    "    result = []\n",
    "    for word in words:\n",
    "        if len(word) == 1:\n",
    "            result.append(word.upper())\n",
    "        else:\n",
    "            result.append(word[0].upper() + word[1:-1] + word[-1].upper())\n",
    "    return ' '.join(result)\n",
    "\n",
    "inputStr = \"hello world python\"\n",
    "ans = cap(inputStr)\n",
    "print(ans)\n"
   ]
  },
  {
   "cell_type": "code",
   "execution_count": 44,
   "metadata": {},
   "outputs": [
    {
     "name": "stdout",
     "output_type": "stream",
     "text": [
      "QwE\n",
      "AsD\n",
      "ZxC\n"
     ]
    }
   ],
   "source": [
    "s = input(\"Enter a String: \")\n",
    "l = s.split(\" \")\n",
    "\n",
    "for i in (l):\n",
    "    print(i[0].upper() + i[1:-1] + i[-1].upper())"
   ]
  },
  {
   "cell_type": "markdown",
   "metadata": {},
   "source": [
    "### 08) WAP to convert given array to string."
   ]
  },
  {
   "cell_type": "code",
   "execution_count": 3,
   "metadata": {},
   "outputs": [
    {
     "data": {
      "text/plain": [
       "'qwerwswed'"
      ]
     },
     "execution_count": 3,
     "metadata": {},
     "output_type": "execute_result"
    }
   ],
   "source": [
    "l = [\"qwer\",\"ws\",'wed']\n",
    "s = ''.join(l)\n",
    "s"
   ]
  },
  {
   "cell_type": "markdown",
   "metadata": {},
   "source": [
    "### 09) Check if the password and confirm password is same or not. \n",
    "### In case of only case's mistake, show the error message."
   ]
  },
  {
   "cell_type": "code",
   "execution_count": 48,
   "metadata": {},
   "outputs": [
    {
     "data": {
      "text/plain": [
       "False"
      ]
     },
     "execution_count": 48,
     "metadata": {},
     "output_type": "execute_result"
    }
   ],
   "source": [
    "'u' == 'U'"
   ]
  },
  {
   "cell_type": "markdown",
   "metadata": {},
   "source": [
    "### 10) : Display credit card number. \n",
    "### card no. : 1234 5678 9012 3456\n",
    "### display as  : **** **** **** 3456"
   ]
  },
  {
   "cell_type": "code",
   "execution_count": 1,
   "metadata": {},
   "outputs": [
    {
     "name": "stdout",
     "output_type": "stream",
     "text": [
      "**** **** **** 3456\n"
     ]
    }
   ],
   "source": [
    "def cardNumber(cn):\n",
    "    masked_number = \"**** **** **** \" + cn[-4:]\n",
    "    return masked_number\n",
    "\n",
    "card_number = \"1234 5678 9012 3456\"\n",
    "newNum = cardNumber(card_number)\n",
    "print(newNum)\n"
   ]
  },
  {
   "cell_type": "markdown",
   "metadata": {},
   "source": [
    "### 11) : Checking if the two strings are Anagram or not.\n",
    "### s1 = decimal and s2 = medical are Anagram"
   ]
  },
  {
   "cell_type": "code",
   "execution_count": null,
   "metadata": {},
   "outputs": [],
   "source": []
  },
  {
   "cell_type": "markdown",
   "metadata": {},
   "source": [
    "### 12) : Rearrange the given string. First lowercase then uppercase alphabets.\n",
    "### input : EHlsarwiwhtwMV\n",
    "### output : lsarwiwhtwEHMV"
   ]
  },
  {
   "cell_type": "code",
   "execution_count": 5,
   "metadata": {},
   "outputs": [
    {
     "name": "stdout",
     "output_type": "stream",
     "text": [
      "lsarwiwhtwEHMV\n"
     ]
    }
   ],
   "source": [
    "inpt = \"EHlsarwiwhtwMV\"\n",
    "upperStr = \"\"\n",
    "lowerStr = \"\"\n",
    "\n",
    "for i in inpt:\n",
    "    if i.islower():\n",
    "        lowerStr+=i\n",
    "    else:\n",
    "        upperStr+=i\n",
    "print(lowerStr + upperStr)"
   ]
  }
 ],
 "metadata": {
  "kernelspec": {
   "display_name": "Python 3",
   "language": "python",
   "name": "python3"
  },
  "language_info": {
   "codemirror_mode": {
    "name": "ipython",
    "version": 3
   },
   "file_extension": ".py",
   "mimetype": "text/x-python",
   "name": "python",
   "nbconvert_exporter": "python",
   "pygments_lexer": "ipython3",
   "version": "3.12.4"
  }
 },
 "nbformat": 4,
 "nbformat_minor": 4
}
